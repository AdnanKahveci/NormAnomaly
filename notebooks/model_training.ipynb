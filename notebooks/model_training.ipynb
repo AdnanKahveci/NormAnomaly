{
 "cells": [
  {
   "cell_type": "code",
   "execution_count": 1,
   "metadata": {},
   "outputs": [],
   "source": [
    "import pandas as pd # type: ignore\n",
    "import numpy as np # type: ignore\n",
    "from sklearn.model_selection import train_test_split # type: ignore\n",
    "from sklearn.preprocessing import StandardScaler # type: ignore\n",
    "from sklearn.ensemble import RandomForestClassifier # type: ignore\n",
    "from sklearn.metrics import classification_report, confusion_matrix # type: ignore\n",
    "\n",
    "# Geriye dönük uyarı\n",
    "import warnings\n",
    "warnings.filterwarnings('ignore')"
   ]
  },
  {
   "cell_type": "code",
   "execution_count": 2,
   "metadata": {},
   "outputs": [],
   "source": [
    "# İşlenmiş veriyi yükleyin\n",
    "processed_file_path = 'C:/Users/kahve/Desktop/AnomaFlow/data/processed/processed_data.csv'\n",
    "df = pd.read_csv(processed_file_path)\n",
    "\n",
    "# Özellikler ve etiketler\n",
    "X = df.drop('Class', axis=1)\n",
    "y = df['Class']\n",
    "\n",
    "# Eğitim ve test setlerine ayırın\n",
    "X_train, X_test, y_train, y_test = train_test_split(X, y, test_size=0.2, random_state=42)\n",
    "\n",
    "# Özellikleri standartlaştırın\n",
    "scaler = StandardScaler()\n",
    "X_train = scaler.fit_transform(X_train)\n",
    "X_test = scaler.transform(X_test)\n"
   ]
  },
  {
   "cell_type": "code",
   "execution_count": 3,
   "metadata": {},
   "outputs": [],
   "source": [
    "# Random Forest modelini oluşturun ve eğitin\n",
    "model = RandomForestClassifier(n_estimators=100, random_state=42)\n",
    "model.fit(X_train, y_train)\n",
    "\n",
    "# Tahmin yapın\n",
    "y_pred = model.predict(X_test)\n"
   ]
  },
  {
   "cell_type": "code",
   "execution_count": 4,
   "metadata": {},
   "outputs": [
    {
     "name": "stdout",
     "output_type": "stream",
     "text": [
      "[[10296     0]\n",
      " [    4    28]]\n",
      "              precision    recall  f1-score   support\n",
      "\n",
      "           0       1.00      1.00      1.00     10296\n",
      "           1       1.00      0.88      0.93        32\n",
      "\n",
      "    accuracy                           1.00     10328\n",
      "   macro avg       1.00      0.94      0.97     10328\n",
      "weighted avg       1.00      1.00      1.00     10328\n",
      "\n"
     ]
    }
   ],
   "source": [
    "# Karışıklık matrisini ve sınıflandırma raporunu hesaplayın\n",
    "print(confusion_matrix(y_test, y_pred))\n",
    "print(classification_report(y_test, y_pred))\n"
   ]
  },
  {
   "cell_type": "code",
   "execution_count": 14,
   "metadata": {},
   "outputs": [
    {
     "name": "stdout",
     "output_type": "stream",
     "text": [
      "Model 'C:/Users/kahve/Desktop/AnomaFlow/notebooks/models/random_forest_model.pkl' konumuna kaydedildi.\n"
     ]
    }
   ],
   "source": [
    "import joblib # type: ignore\n",
    "\n",
    "# Modeli kaydedin\n",
    "model_path = 'C:/Users/kahve/Desktop/AnomaFlow/notebooks/models/random_forest_model.pkl'\n",
    "joblib.dump(model, model_path)\n",
    "print(f\"Model '{model_path}' konumuna kaydedildi.\")\n"
   ]
  }
 ],
 "metadata": {
  "kernelspec": {
   "display_name": "Python 3",
   "language": "python",
   "name": "python3"
  },
  "language_info": {
   "codemirror_mode": {
    "name": "ipython",
    "version": 3
   },
   "file_extension": ".py",
   "mimetype": "text/x-python",
   "name": "python",
   "nbconvert_exporter": "python",
   "pygments_lexer": "ipython3",
   "version": "3.11.3"
  }
 },
 "nbformat": 4,
 "nbformat_minor": 2
}
